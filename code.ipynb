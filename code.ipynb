{
 "cells": [
  {
   "cell_type": "markdown",
   "id": "31519831",
   "metadata": {},
   "source": [
    "# Data Loader"
   ]
  },
  {
   "cell_type": "code",
   "execution_count": 1,
   "id": "6eb39c83",
   "metadata": {
    "tags": []
   },
   "outputs": [
    {
     "name": "stderr",
     "output_type": "stream",
     "text": [
      "24/04/28 08:38:51 WARN SparkSession: Using an existing Spark session; only runtime SQL configurations will take effect.\n",
      "[Stage 1:>                                                          (0 + 2) / 2]\r"
     ]
    },
    {
     "name": "stdout",
     "output_type": "stream",
     "text": [
      "['VendorID', 'tpep_pickup_datetime', 'tpep_dropoff_datetime', 'passenger_count', 'trip_distance', 'pickup_longitude', 'pickup_latitude', 'RatecodeID', 'store_and_fwd_flag', 'dropoff_longitude', 'dropoff_latitude', 'payment_type', 'fare_amount', 'extra', 'mta_tax', 'tip_amount', 'tolls_amount', 'improvement_surcharge', 'total_amount']\n"
     ]
    },
    {
     "name": "stderr",
     "output_type": "stream",
     "text": [
      "                                                                                \r"
     ]
    }
   ],
   "source": [
    "from pyspark.sql import SparkSession\n",
    "import requests\n",
    "import os\n",
    "\n",
    "def load_data_from_api(*args, **kwargs):\n",
    "    spark = SparkSession.builder.appName(\"test\").getOrCreate()\n",
    "\n",
    "    url = r\"https://storage.googleapis.com/uber-analytics-03/uber_data.csv\"\n",
    "    response = requests.get(url)\n",
    "\n",
    "    # Get the absolute path of the current working directory\n",
    "    cwd = os.getcwd()\n",
    "    file_path = os.path.join(cwd, \"uber_data.csv\")\n",
    "\n",
    "    with open(file_path, \"wb\") as f:\n",
    "        f.write(response.content)\n",
    "\n",
    "    # Read the local CSV file into a Spark DataFrame with column names\n",
    "    df = spark.read.option(\"inferSchema\", \"true\").option(\"header\", \"true\").csv(f\"file:///{file_path}\")\n",
    "\n",
    "    return df\n",
    "\n",
    "df = load_data_from_api()\n",
    "print(df.columns)"
   ]
  },
  {
   "cell_type": "markdown",
   "id": "d57d3d8e",
   "metadata": {},
   "source": [
    "# Data Transformer"
   ]
  },
  {
   "cell_type": "code",
   "execution_count": 2,
   "id": "c506bb4b-7d9b-4e30-8645-af50b45c3857",
   "metadata": {
    "tags": []
   },
   "outputs": [
    {
     "name": "stderr",
     "output_type": "stream",
     "text": [
      "24/04/28 08:39:07 WARN SparkSession: Using an existing Spark session; only runtime SQL configurations will take effect.\n",
      "                                                                                \r"
     ]
    }
   ],
   "source": [
    "from pyspark.sql import SparkSession\n",
    "from pyspark.sql.functions import (\n",
    "    col,\n",
    "    hour,\n",
    "    dayofmonth,\n",
    "    month,\n",
    "    year,\n",
    "    dayofweek,\n",
    "    when,\n",
    "    monotonically_increasing_id,\n",
    ")\n",
    "from pyspark.sql.functions import col, dense_rank\n",
    "from pyspark.sql.window import Window\n",
    "import pyspark.sql.functions as F\n",
    "\n",
    "spark = SparkSession.builder.appName(\"Data_Transformation\").getOrCreate()\n",
    "def transform(df=df, *args, **kwargs):\n",
    "    # Convert columns to timestamp type\n",
    "    df = df.withColumn(\n",
    "        \"tpep_pickup_datetime\", df[\"tpep_pickup_datetime\"].cast(\"timestamp\")\n",
    "    )\n",
    "    df = df.withColumn(\n",
    "        \"tpep_dropoff_datetime\", df[\"tpep_dropoff_datetime\"].cast(\"timestamp\")\n",
    "    )\n",
    "\n",
    "    # Create datetime dimension\n",
    "    datetime_dim = (\n",
    "        df.select(\n",
    "            \"tpep_pickup_datetime\",\n",
    "            \"tpep_dropoff_datetime\",\n",
    "            hour(\"tpep_pickup_datetime\").alias(\"pick_hour\"),\n",
    "            dayofmonth(\"tpep_pickup_datetime\").alias(\"pick_day\"),\n",
    "            month(\"tpep_pickup_datetime\").alias(\"pick_month\"),\n",
    "            year(\"tpep_pickup_datetime\").alias(\"pick_year\"),\n",
    "            dayofweek(\"tpep_pickup_datetime\").alias(\"pick_weekday\"),\n",
    "            hour(\"tpep_dropoff_datetime\").alias(\"drop_hour\"),\n",
    "            dayofmonth(\"tpep_dropoff_datetime\").alias(\"drop_day\"),\n",
    "            month(\"tpep_dropoff_datetime\").alias(\"drop_month\"),\n",
    "            year(\"tpep_dropoff_datetime\").alias(\"drop_year\"),\n",
    "            dayofweek(\"tpep_dropoff_datetime\").alias(\"drop_weekday\"),\n",
    "        )\n",
    "        .distinct()\n",
    "        .withColumn(\"datetime_id\", monotonically_increasing_id())\n",
    "    )\n",
    "\n",
    "    # Create other dimension tables\n",
    "    passenger_count = {\n",
    "    0: 1,\n",
    "    1: 2,\n",
    "    2: 3,\n",
    "    3: 5,\n",
    "    4: 6,\n",
    "    5: 4,\n",
    "    6: 0\n",
    "    }\n",
    "\n",
    "    passenger_count_dim = (\n",
    "        df.select(\"passenger_count\")\n",
    "        .distinct()\n",
    "        .withColumn(\"passenger_count_id\", monotonically_increasing_id())\n",
    "    )\n",
    "    passenger_count_dim=passenger_count_dim.withColumn(\n",
    "        'passenger_count',\n",
    "        when(col(\"passenger_count_id\") == 0, passenger_count[0])      \n",
    "        .when(col(\"passenger_count_id\") == 1, passenger_count[1])  \n",
    "        .when(col(\"passenger_count_id\") == 2, passenger_count[2])  \n",
    "        .when(col(\"passenger_count_id\") == 3, passenger_count[3])  \n",
    "        .when(col(\"passenger_count_id\") == 4, passenger_count[4])  \n",
    "        .when(col(\"passenger_count_id\") == 5, passenger_count[5])\n",
    "        .when(col(\"passenger_count_id\") == 6, passenger_count[6])  \n",
    "    )\n",
    "    passenger_count_dim=passenger_count_dim.select('passenger_count_id','passenger_count')\n",
    "\n",
    "    trip_distance_dim = (\n",
    "        df.select(\"trip_distance\")\n",
    "        .distinct()\n",
    "        .withColumn(\"trip_distance_id\", monotonically_increasing_id())\n",
    "        .select(\"trip_distance_id\", \"trip_distance\")\n",
    "    )\n",
    "\n",
    "    # Define rate code type dictionary\n",
    "    rate_code_type = {\n",
    "        1: \"Standard rate\",\n",
    "        2: \"JFK\",\n",
    "        3: \"Newark\",\n",
    "        4: \"Nassau or Westchester\",\n",
    "        5: \"Negotiated fare\",\n",
    "        6: \"Group ride\",\n",
    "    }\n",
    "\n",
    "    # Create rate code dimension\n",
    "    rate_code_dim = (\n",
    "        df.select(\"RatecodeID\")\n",
    "        .distinct()\n",
    "        .withColumn(\"rate_code_id\", monotonically_increasing_id())\n",
    "    )\n",
    "    rate_code_dim = rate_code_dim.withColumn(\n",
    "        \"rate_code_name\",\n",
    "        when(col(\"RatecodeID\") == 1, rate_code_type[1])\n",
    "        .when(col(\"RatecodeID\") == 2, rate_code_type[2])\n",
    "        .when(col(\"RatecodeID\") == 3, rate_code_type[3])\n",
    "        .when(col(\"RatecodeID\") == 4, rate_code_type[4])\n",
    "        .when(col(\"RatecodeID\") == 5, rate_code_type[5])\n",
    "        .when(col(\"RatecodeID\") == 6, rate_code_type[6])\n",
    "        .otherwise('Group ride')\n",
    "    )\n",
    "    rate_code_dim = rate_code_dim.select('rate_code_id','RatecodeID','rate_code_name')\n",
    "\n",
    "    pickup_location_dim = (\n",
    "        df.select(\"pickup_longitude\", \"pickup_latitude\")\n",
    "        .distinct()\n",
    "        .withColumnRenamed(\"pickup_longitude\", \"pickup_longitude_id\")\n",
    "        .withColumnRenamed(\"pickup_latitude\", \"pickup_latitude_id\")\n",
    "    )\n",
    "    pickup_location_dim = pickup_location_dim.withColumn(\n",
    "        \"pickup_location_id\", monotonically_increasing_id()\n",
    "    )\n",
    "\n",
    "    dropoff_location_dim = (\n",
    "        df.select(\"dropoff_longitude\", \"dropoff_latitude\")\n",
    "        .distinct()\n",
    "        .withColumnRenamed(\"dropoff_longitude\", \"dropoff_longitude_id\")\n",
    "        .withColumnRenamed(\"dropoff_latitude\", \"dropoff_latitude_id\")\n",
    "    )\n",
    "    dropoff_location_dim = dropoff_location_dim.withColumn(\n",
    "        \"dropoff_location_id\", monotonically_increasing_id()\n",
    "    )\n",
    "\n",
    "    # Create payment type dimension\n",
    "# Define payment type name dictionary\n",
    "# Define payment type name dictionary\n",
    "    payment_type_name = {\n",
    "        1: \"Credit card\",\n",
    "        2: \"Cash\",\n",
    "        3: \"No charge\", \n",
    "        4: \"Dispute\",\n",
    "        5: \"Unknown\",\n",
    "        6: \"Voided trip\",\n",
    "    }\n",
    "\n",
    "    # Create payment type dimension\n",
    "    payment_type_dim = (\n",
    "        df.select(\"payment_type\")\n",
    "        .distinct()\n",
    "        .withColumn(\"payment_type_id\", monotonically_increasing_id())\n",
    "    )\n",
    "    payment_type_dim = payment_type_dim.withColumn(\n",
    "        \"payment_type_name\",\n",
    "        when(col(\"payment_type\") == 1, payment_type_name[1])\n",
    "        .when(col(\"payment_type\") == 2, payment_type_name[2])\n",
    "        .when(col(\"payment_type\") == 3, payment_type_name[3])\n",
    "        .when(col(\"payment_type\") == 4, payment_type_name[4])\n",
    "        .when(col(\"payment_type\") == 5, payment_type_name[5])\n",
    "        .when(col(\"payment_type\") == 6, payment_type_name[6])\n",
    "        .otherwise(\"Dispute\")\n",
    "    )\n",
    "    payment_type_dim = payment_type_dim.select(\n",
    "        \"payment_type_id\",'payment_type', \"payment_type_name\"\n",
    "    )\n",
    "    # Create fact table\n",
    "    fact_table = (\n",
    "        df.join(passenger_count_dim, df[\"passenger_count\"] == passenger_count_dim[\"passenger_count\"], how=\"left\")\n",
    "        .join(trip_distance_dim, df[\"trip_distance\"] == trip_distance_dim[\"trip_distance\"], how=\"left\")\n",
    "        .join(rate_code_dim, df[\"RatecodeID\"] == rate_code_dim[\"RatecodeID\"], how=\"left\")\n",
    "        .join(\n",
    "            pickup_location_dim,\n",
    "            [\n",
    "                df[\"pickup_longitude\"] == pickup_location_dim[\"pickup_longitude_id\"],\n",
    "                df[\"pickup_latitude\"] == pickup_location_dim[\"pickup_latitude_id\"],\n",
    "            ],\n",
    "            how=\"left\",\n",
    "        )\n",
    "        .join(\n",
    "            dropoff_location_dim,\n",
    "            [\n",
    "                df[\"dropoff_longitude\"] == dropoff_location_dim[\"dropoff_longitude_id\"],\n",
    "                df[\"dropoff_latitude\"] == dropoff_location_dim[\"dropoff_latitude_id\"],\n",
    "            ],\n",
    "            how=\"left\",\n",
    "        )\n",
    "        .join(\n",
    "            datetime_dim,\n",
    "            [\n",
    "                df[\"tpep_pickup_datetime\"] == datetime_dim[\"tpep_pickup_datetime\"],\n",
    "                df[\"tpep_dropoff_datetime\"] == datetime_dim[\"tpep_dropoff_datetime\"],\n",
    "            ],\n",
    "            how=\"left\",\n",
    "        )\n",
    "        .join(payment_type_dim, df[\"payment_type\"] == payment_type_dim[\"payment_type\"], how=\"left\")\n",
    "        .select(\n",
    "            \"VendorID\",\n",
    "            \"datetime_id\",\n",
    "            \"passenger_count_id\",\n",
    "            \"trip_distance_id\",\n",
    "            \"rate_code_id\",\n",
    "            \"store_and_fwd_flag\",\n",
    "            \"pickup_location_id\",\n",
    "            \"dropoff_location_id\",\n",
    "            \"payment_type_id\",\n",
    "            \"fare_amount\",\n",
    "            \"extra\",\n",
    "            \"mta_tax\",\n",
    "            \"tip_amount\",\n",
    "            \"tolls_amount\",\n",
    "            \"improvement_surcharge\",\n",
    "            \"total_amount\",\n",
    "        )\n",
    "    )\n",
    "\n",
    "    return {\n",
    "        \"datetime_dim\": datetime_dim.toPandas().to_dict(orient=\"records\"),\n",
    "        \"passenger_count_dim\": passenger_count_dim.toPandas().to_dict(orient=\"records\"),\n",
    "        \"trip_distance_dim\": trip_distance_dim.toPandas().to_dict(orient=\"records\"),\n",
    "        \"rate_code_dim\": rate_code_dim.toPandas().to_dict(orient=\"records\"),\n",
    "        \"pickup_location_dim\": pickup_location_dim.toPandas().to_dict(orient=\"records\"),\n",
    "        \"dropoff_location_dim\": dropoff_location_dim.toPandas().to_dict(\n",
    "            orient=\"records\"\n",
    "        ),\n",
    "        \"payment_type_dim\": payment_type_dim.toPandas().to_dict(orient=\"records\"),\n",
    "        \"fact_table\": fact_table.toPandas().to_dict(orient=\"records\"),\n",
    "    }\n",
    "final=transform(df)"
   ]
  },
  {
   "cell_type": "markdown",
   "id": "aa77f305",
   "metadata": {},
   "source": [
    "# Data Exporter"
   ]
  },
  {
   "cell_type": "code",
   "execution_count": 3,
   "id": "3ef16b3f-f395-4d42-b434-c1b14243cc18",
   "metadata": {
    "tags": []
   },
   "outputs": [
    {
     "name": "stdout",
     "output_type": "stream",
     "text": [
      "None\n"
     ]
    }
   ],
   "source": [
    "from google.cloud import bigquery\n",
    "from google.cloud.bigquery import LoadJobConfig\n",
    "from google.oauth2 import service_account\n",
    "from os import environ\n",
    "from pandas import DataFrame\n",
    "\n",
    "# Authentication setup\"\n",
    "\n",
    "def export_data_to_big_query(data, dataset_id='uber_data_dataproc', project_id='pde-3-414007', table_prefix=\"\", if_exists=\"replace\") -> None:\n",
    "    \"\"\"\n",
    "    Export data to a BigQuery warehouse using Google Cloud's BigQuery client.\n",
    "    \"\"\"\n",
    "    client = bigquery.Client(project=project_id)\n",
    "    \n",
    "    for key, value in data.items():\n",
    "        table_id = f\"{project_id}.{dataset_id}.{table_prefix}{key}\"  # Construct table ID\n",
    "        job_config = LoadJobConfig(\n",
    "            write_disposition=bigquery.WriteDisposition.WRITE_TRUNCATE  # Corrected write disposition\n",
    "        )\n",
    "        client.load_table_from_dataframe(DataFrame(value), table_id, job_config=job_config).result()\n",
    "        \n",
    "print(export_data_to_big_query(final))"
   ]
  },
  {
   "cell_type": "code",
   "execution_count": 4,
   "id": "4ad03f93-c16a-44b0-905f-582b2dd50e07",
   "metadata": {
    "tags": []
   },
   "outputs": [
    {
     "name": "stdout",
     "output_type": "stream",
     "text": [
      "[{'rate_code_id': 0, 'RatecodeID': 1, 'rate_code_name': 'Standard rate'}, {'rate_code_id': 1, 'RatecodeID': 3, 'rate_code_name': 'Newark'}, {'rate_code_id': 2, 'RatecodeID': 4, 'rate_code_name': 'Nassau or Westchester'}, {'rate_code_id': 3, 'RatecodeID': 5, 'rate_code_name': 'Negotiated fare'}, {'rate_code_id': 4, 'RatecodeID': 2, 'rate_code_name': 'JFK'}, {'rate_code_id': 5, 'RatecodeID': 6, 'rate_code_name': 'Group ride'}]\n"
     ]
    }
   ],
   "source": [
    "print(final['rate_code_dim'])"
   ]
  },
  {
   "cell_type": "code",
   "execution_count": 5,
   "id": "1ed59947-5a30-442b-b466-4ed4595a40af",
   "metadata": {
    "scrolled": true,
    "tags": []
   },
   "outputs": [
    {
     "name": "stdout",
     "output_type": "stream",
     "text": [
      "[{'payment_type_id': 0, 'payment_type': 1, 'payment_type_name': 'Credit card'}, {'payment_type_id': 1, 'payment_type': 3, 'payment_type_name': 'No charge'}, {'payment_type_id': 2, 'payment_type': 4, 'payment_type_name': 'Dispute'}, {'payment_type_id': 3, 'payment_type': 2, 'payment_type_name': 'Cash'}]\n"
     ]
    }
   ],
   "source": [
    "print(final['payment_type_dim'])"
   ]
  },
  {
   "cell_type": "code",
   "execution_count": null,
   "id": "63801e19-0c53-46d1-9101-2b235424decf",
   "metadata": {},
   "outputs": [],
   "source": []
  }
 ],
 "metadata": {
  "kernelspec": {
   "display_name": "PySpark",
   "language": "python",
   "name": "pyspark"
  },
  "language_info": {
   "codemirror_mode": {
    "name": "ipython",
    "version": 3
   },
   "file_extension": ".py",
   "mimetype": "text/x-python",
   "name": "python",
   "nbconvert_exporter": "python",
   "pygments_lexer": "ipython3",
   "version": "3.11.8"
  }
 },
 "nbformat": 4,
 "nbformat_minor": 5
}